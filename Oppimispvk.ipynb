{
 "cells": [
  {
   "cell_type": "code",
   "execution_count": 1,
   "metadata": {},
   "outputs": [
    {
     "name": "stdout",
     "output_type": "stream",
     "text": [
      "Hello World\n"
     ]
    }
   ],
   "source": [
    "print(\"Hello World\")"
   ]
  },
  {
   "cell_type": "code",
   "execution_count": 2,
   "metadata": {},
   "outputs": [],
   "source": [
    "from IPython.display import Image"
   ]
  },
  {
   "cell_type": "code",
   "execution_count": 5,
   "metadata": {},
   "outputs": [],
   "source": [
    "from IPython.core.display import HTML"
   ]
  },
  {
   "cell_type": "markdown",
   "metadata": {},
   "source": [
    "#    Oppimispäiväkirja"
   ]
  },
  {
   "cell_type": "markdown",
   "metadata": {},
   "source": [
    "Viikko 1"
   ]
  },
  {
   "cell_type": "markdown",
   "metadata": {},
   "source": [
    "\n",
    "Python tärkeimpänä kielenä datatieteessä R-kielen ohella. Ohjelmointi on edelleen hyvin tärkeää, sille se tarjoaa joustavuutta ”fixed”-järjestelmiin verrattuna. Pythonin relevanssi selittynee sen helpolla syntaksilla ja yleisellä helppokäyttöisyydellä.  Pythonin ”hitaus” ei myöskään (yleensä) tuota ongelmia datatieteen saralla, koska pienillä suoritusaikaeroilla on vain marginaalinen merkitys; vrt. videopelit tai vastaavat.\n",
    "\n",
    "Datatiede teknisesti uusi ala, mutta käytännössä alaa sovellettu aina jossain määrin. Helposti saatavilla olevan datan määrä kasvanut räjähdysmäisesti viimeisien vuosikymmenten aikana -> datatieteen merkitys kasvanut merkittävästi. Hakukoneet, sosiaalinen media ja internet ylipäätään vastuussa datan saatavuuteen merkittävästi.\n",
    "\n",
    "Datakeskeinen maailma: datatieteilijät käsittelevät, organisoivat ja muokkaavat dataa hyödylliseen muotoon. Datafikaation eettiset ongelmat omasta mielestäni tärkeä nosto! Alan etiikka on omalla tavallaan aivan lapsen kengissä verrattuna esimerkiksi lääke- tai lakitieteisiin verrattuna, vaikka etiikalla vähintään yhtä suuri merkitys myös tietojenkäsittelyssä.\n",
    "\n",
    "Asensin ja kokeilin luonnolla mainittua anaconda-ympäristöä, jonka kautta sain tehtyä Jupyter-notebookin. Ensisilmäyksellä vaikuttaa varsin näppärältä paketilta, joka kokoaa paljon hyödyllisiä työkaluja yhteen paikkaan.\n",
    "\n",
    "Omat tavoitteet ensimmäisen luennon perusteella: Pandas datastruktuuriin tutustuminen, omien Python-taitojen harjoittaminen ja kehittäminen. Lisäksi pyrin tekemään selkeän projektityön ja harjoittelemaan koneoppimisen perusteita. Koodia en vielä juurikaan kirjoittanut, lukuunottamatta päiväkirjassa olevia import-komentoja.\n",
    "\n",
    "Luennossa ainoa kehityksen kohde on se, että yhtä näyttöä käyttäessä panopto-videoita voi olla vaikea nähdä, mikäli näytöllä on useampi ikkuna auki. Tämä johtuu lähinnä facecamista, joka vie väistämättä paljon tilaa. Panopto ei myöskään anna sulkea facecamia.\n"
   ]
  },
  {
   "cell_type": "markdown",
   "metadata": {},
   "source": [
    "Viikko 2"
   ]
  },
  {
   "cell_type": "code",
   "execution_count": 11,
   "metadata": {},
   "outputs": [
    {
     "data": {
      "text/html": [
       "<div>\n",
       "<style scoped>\n",
       "    .dataframe tbody tr th:only-of-type {\n",
       "        vertical-align: middle;\n",
       "    }\n",
       "\n",
       "    .dataframe tbody tr th {\n",
       "        vertical-align: top;\n",
       "    }\n",
       "\n",
       "    .dataframe thead th {\n",
       "        text-align: right;\n",
       "    }\n",
       "</style>\n",
       "<table border=\"1\" class=\"dataframe\">\n",
       "  <thead>\n",
       "    <tr style=\"text-align: right;\">\n",
       "      <th></th>\n",
       "      <th>0</th>\n",
       "      <th>1</th>\n",
       "    </tr>\n",
       "  </thead>\n",
       "  <tbody>\n",
       "    <tr>\n",
       "      <th>0</th>\n",
       "      <td>1</td>\n",
       "      <td>1</td>\n",
       "    </tr>\n",
       "  </tbody>\n",
       "</table>\n",
       "</div>"
      ],
      "text/plain": [
       "   0  1\n",
       "0  1  1"
      ]
     },
     "execution_count": 11,
     "metadata": {},
     "output_type": "execute_result"
    }
   ],
   "source": [
    "import pandas as pd\n",
    "pd.DataFrame([[1,1]])"
   ]
  },
  {
   "cell_type": "markdown",
   "metadata": {},
   "source": [
    "Valmistelu ja datan saaminen oikeaan muotoon vievät todella suuren osan ajasta. Plastinen tutkimuskysymys oli uusi asia itselle. Kun asiaa miettii tarkemmin, se on todella fiksu tapa lähestyä ongelmaa erityisesti, jos käsitellään isoja datasettejä tai aiempaa vastaavaa ”market dataa” ei ole. Tämän huomasin myös projektityötä aloittaessa; datasetin valinta, relevantin infon rajaaminen, sekä "
   ]
  }
 ],
 "metadata": {
  "kernelspec": {
   "display_name": "Python 3",
   "language": "python",
   "name": "python3"
  },
  "language_info": {
   "codemirror_mode": {
    "name": "ipython",
    "version": 3
   },
   "file_extension": ".py",
   "mimetype": "text/x-python",
   "name": "python",
   "nbconvert_exporter": "python",
   "pygments_lexer": "ipython3",
   "version": "3.8.5"
  }
 },
 "nbformat": 4,
 "nbformat_minor": 4
}
